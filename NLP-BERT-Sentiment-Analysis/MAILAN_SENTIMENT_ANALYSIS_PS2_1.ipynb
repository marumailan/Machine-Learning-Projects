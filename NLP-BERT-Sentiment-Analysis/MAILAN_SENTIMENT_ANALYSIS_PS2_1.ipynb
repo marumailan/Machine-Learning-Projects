{
 "cells": [
  {
   "cell_type": "code",
   "execution_count": null,
   "metadata": {},
   "outputs": [],
   "source": [
    "!pip install torch torchvision torchaudio"
   ]
  },
  {
   "cell_type": "code",
   "execution_count": null,
   "metadata": {},
   "outputs": [],
   "source": [
    "!pip install transformers requests beautifulsoup4 pandas numpy"
   ]
  },
  {
   "cell_type": "code",
   "execution_count": 5,
   "metadata": {},
   "outputs": [],
   "source": [
    "from transformers import AutoTokenizer, AutoModelForSequenceClassification\n",
    "import torch\n",
    "import requests\n",
    "from bs4 import BeautifulSoup\n",
    "import re"
   ]
  },
  {
   "cell_type": "code",
   "execution_count": 6,
   "metadata": {},
   "outputs": [],
   "source": [
    "tokenizer = AutoTokenizer.from_pretrained('nlptown/bert-base-multilingual-uncased-sentiment')\n",
    "model = AutoModelForSequenceClassification.from_pretrained('nlptown/bert-base-multilingual-uncased-sentiment')"
   ]
  },
  {
   "cell_type": "markdown",
   "metadata": {},
   "source": [
    "# VENOM THE LAST DANCE MOVIE REVIEW"
   ]
  },
  {
   "cell_type": "code",
   "execution_count": 8,
   "metadata": {},
   "outputs": [],
   "source": [
    "r = requests.get('https://www.rottentomatoes.com/m/venom_the_last_dance/reviews')\n",
    "soup = BeautifulSoup(r.text, 'html.parser')\n",
    "regex = re.compile('.*review-text.*')\n",
    "results = soup.find_all('p', {'class':regex})\n",
    "reviews = [result.text for result in results]"
   ]
  },
  {
   "cell_type": "code",
   "execution_count": 9,
   "metadata": {},
   "outputs": [
    {
     "data": {
      "text/plain": [
       "[\"Venom: The Last Dance sputters to an unsatisfying conclusion that will likely leave fans of the series wishing for something more. Tom Hardy may not quite be phoning it in, but it's clear the fire has gone. Please let this be the final dance. Please.\",\n",
       " 'A spectacular film... with a sentimental, emotional, and dramatic touch that was not expected in this departure(?) of the Lethal Protector. [Full review in Spanish]',\n",
       " \"While there is some fun to be had (in particular in the 3rd act), the story is a mess.  Three movies into this trilogy, it's disappointing they never figured out how to craft film which is both fun and coherent.\",\n",
       " 'Marcel’s film has a ton of potential in a cast that’s clearly game and centered on a terrifically entertaining performance from Hardy. When it’s having fun, “The Last Dance” is infectiously delightful, but those moments are too far and few in between. ',\n",
       " 'Tom Hardy clearly has a blast as Eddie/Venom and this final installment to the VENOM trilogy is hilarious and exactly what you would expect from a Venom film. The Eddie/Venom casino scene has me rolling!',\n",
       " 'It is forced, and too formulaic to generate any real emotion. [Full review in Spanish]',\n",
       " '\"The most romantic trilogy in cinema since the Before trilogy.\" ',\n",
       " 'Venom The Last Dance is a chaotic road trip of subplots and forgettable characters, stuck in a mid-2000s comic book vibe. Eddie and Venom’s bromance is the only highlight, but everything else feels random, abrupt, and half-hearted.',\n",
       " 'Undoubtedly the weakest of the trilogy. Tom Hardy does his best with a poor script but ultimately the film couldn’t decide between being a finale or a trailer for future franchises.\\n\\nIt’s a fun popcorn movie but after a full trilogy, audiences wants more.',\n",
       " 'Whether this Venom movie is irritating and inconsequential or entertaining and interesting depends entirely on audience expectations. [Full review in Spanish]',\n",
       " 'I watch these movies to laugh. How can they not understand that? Unfortunately laughs are few and far between in Venom: The Last Dance.',\n",
       " \"This franchise just wouldn't work without Tom Hardy. This movie really drags whenever Eddie and/or Venom is not on screen. Overall this Venom swan song is a whirlwind of crazy fun.\",\n",
       " \"The vaudeville-style quirky banter between Venom and Eddie is arguably the best it's been in this unlikely trilogy. However, it's also the film's lone consistent redeeming element.\",\n",
       " 'The Eddie / Venom dynamic is once again hilarious, but this time it also comes with an existential crisis.',\n",
       " 'As the closing chapter of this Venom trilogy, The Last Dance falters in its steps but ultimately manages to shuffle to the end of its swan song serviceably.',\n",
       " 'The third and last film in the awful Marvel movie trilogy about a helmet-headed alien with scary teeth and a large tongue.',\n",
       " 'Keep moving, nothing new to see here.',\n",
       " 'The third and supposedly final entry in this \"superhero\" series is more of the same: endless exposition, overreliance on visual effects and explosions, and no real characters or story. ',\n",
       " 'Ultimately, Venom: The Last Dance is a fun-filled ride that perfectly balances humour and action, thanks to Kelly Marcel’s directorial prowess and Tom Hardy’s magnetic performance. ',\n",
       " 'Sadly, the film stumbles through a series of missteps, leaving even die-hard fans of the franchise wondering if this final entry is more of a farewell dance or a half-hearted shuffle.']"
      ]
     },
     "execution_count": 9,
     "metadata": {},
     "output_type": "execute_result"
    }
   ],
   "source": [
    "reviews"
   ]
  },
  {
   "cell_type": "code",
   "execution_count": 10,
   "metadata": {},
   "outputs": [],
   "source": [
    "import numpy as np\n",
    "import pandas as pd"
   ]
  },
  {
   "cell_type": "code",
   "execution_count": 11,
   "metadata": {},
   "outputs": [],
   "source": [
    "df = pd.DataFrame(np.array(reviews), columns=['review'])"
   ]
  },
  {
   "cell_type": "code",
   "execution_count": 12,
   "metadata": {},
   "outputs": [],
   "source": [
    "def sentiment_score(review):\n",
    "    tokens = tokenizer.encode(review, return_tensors='pt')\n",
    "    result = model(tokens)\n",
    "    return int(torch.argmax(result.logits))+1"
   ]
  },
  {
   "cell_type": "code",
   "execution_count": 13,
   "metadata": {},
   "outputs": [],
   "source": [
    "df['sentiment'] = df['review'].apply(lambda x: sentiment_score(x[:512]))"
   ]
  },
  {
   "cell_type": "code",
   "execution_count": 14,
   "metadata": {},
   "outputs": [
    {
     "data": {
      "text/html": [
       "<div>\n",
       "<style scoped>\n",
       "    .dataframe tbody tr th:only-of-type {\n",
       "        vertical-align: middle;\n",
       "    }\n",
       "\n",
       "    .dataframe tbody tr th {\n",
       "        vertical-align: top;\n",
       "    }\n",
       "\n",
       "    .dataframe thead th {\n",
       "        text-align: right;\n",
       "    }\n",
       "</style>\n",
       "<table border=\"1\" class=\"dataframe\">\n",
       "  <thead>\n",
       "    <tr style=\"text-align: right;\">\n",
       "      <th></th>\n",
       "      <th>review</th>\n",
       "      <th>sentiment</th>\n",
       "    </tr>\n",
       "  </thead>\n",
       "  <tbody>\n",
       "    <tr>\n",
       "      <th>0</th>\n",
       "      <td>Venom: The Last Dance sputters to an unsatisfy...</td>\n",
       "      <td>2</td>\n",
       "    </tr>\n",
       "    <tr>\n",
       "      <th>1</th>\n",
       "      <td>A spectacular film... with a sentimental, emot...</td>\n",
       "      <td>5</td>\n",
       "    </tr>\n",
       "    <tr>\n",
       "      <th>2</th>\n",
       "      <td>While there is some fun to be had (in particul...</td>\n",
       "      <td>3</td>\n",
       "    </tr>\n",
       "    <tr>\n",
       "      <th>3</th>\n",
       "      <td>Marcel’s film has a ton of potential in a cast...</td>\n",
       "      <td>3</td>\n",
       "    </tr>\n",
       "    <tr>\n",
       "      <th>4</th>\n",
       "      <td>Tom Hardy clearly has a blast as Eddie/Venom a...</td>\n",
       "      <td>5</td>\n",
       "    </tr>\n",
       "    <tr>\n",
       "      <th>5</th>\n",
       "      <td>It is forced, and too formulaic to generate an...</td>\n",
       "      <td>1</td>\n",
       "    </tr>\n",
       "    <tr>\n",
       "      <th>6</th>\n",
       "      <td>\"The most romantic trilogy in cinema since the...</td>\n",
       "      <td>5</td>\n",
       "    </tr>\n",
       "    <tr>\n",
       "      <th>7</th>\n",
       "      <td>Venom The Last Dance is a chaotic road trip of...</td>\n",
       "      <td>2</td>\n",
       "    </tr>\n",
       "    <tr>\n",
       "      <th>8</th>\n",
       "      <td>Undoubtedly the weakest of the trilogy. Tom Ha...</td>\n",
       "      <td>2</td>\n",
       "    </tr>\n",
       "    <tr>\n",
       "      <th>9</th>\n",
       "      <td>Whether this Venom movie is irritating and inc...</td>\n",
       "      <td>2</td>\n",
       "    </tr>\n",
       "    <tr>\n",
       "      <th>10</th>\n",
       "      <td>I watch these movies to laugh. How can they no...</td>\n",
       "      <td>2</td>\n",
       "    </tr>\n",
       "    <tr>\n",
       "      <th>11</th>\n",
       "      <td>This franchise just wouldn't work without Tom ...</td>\n",
       "      <td>4</td>\n",
       "    </tr>\n",
       "    <tr>\n",
       "      <th>12</th>\n",
       "      <td>The vaudeville-style quirky banter between Ven...</td>\n",
       "      <td>3</td>\n",
       "    </tr>\n",
       "    <tr>\n",
       "      <th>13</th>\n",
       "      <td>The Eddie / Venom dynamic is once again hilari...</td>\n",
       "      <td>3</td>\n",
       "    </tr>\n",
       "    <tr>\n",
       "      <th>14</th>\n",
       "      <td>As the closing chapter of this Venom trilogy, ...</td>\n",
       "      <td>3</td>\n",
       "    </tr>\n",
       "    <tr>\n",
       "      <th>15</th>\n",
       "      <td>The third and last film in the awful Marvel mo...</td>\n",
       "      <td>4</td>\n",
       "    </tr>\n",
       "    <tr>\n",
       "      <th>16</th>\n",
       "      <td>Keep moving, nothing new to see here.</td>\n",
       "      <td>2</td>\n",
       "    </tr>\n",
       "    <tr>\n",
       "      <th>17</th>\n",
       "      <td>The third and supposedly final entry in this \"...</td>\n",
       "      <td>2</td>\n",
       "    </tr>\n",
       "    <tr>\n",
       "      <th>18</th>\n",
       "      <td>Ultimately, Venom: The Last Dance is a fun-fil...</td>\n",
       "      <td>4</td>\n",
       "    </tr>\n",
       "    <tr>\n",
       "      <th>19</th>\n",
       "      <td>Sadly, the film stumbles through a series of m...</td>\n",
       "      <td>2</td>\n",
       "    </tr>\n",
       "  </tbody>\n",
       "</table>\n",
       "</div>"
      ],
      "text/plain": [
       "                                               review  sentiment\n",
       "0   Venom: The Last Dance sputters to an unsatisfy...          2\n",
       "1   A spectacular film... with a sentimental, emot...          5\n",
       "2   While there is some fun to be had (in particul...          3\n",
       "3   Marcel’s film has a ton of potential in a cast...          3\n",
       "4   Tom Hardy clearly has a blast as Eddie/Venom a...          5\n",
       "5   It is forced, and too formulaic to generate an...          1\n",
       "6   \"The most romantic trilogy in cinema since the...          5\n",
       "7   Venom The Last Dance is a chaotic road trip of...          2\n",
       "8   Undoubtedly the weakest of the trilogy. Tom Ha...          2\n",
       "9   Whether this Venom movie is irritating and inc...          2\n",
       "10  I watch these movies to laugh. How can they no...          2\n",
       "11  This franchise just wouldn't work without Tom ...          4\n",
       "12  The vaudeville-style quirky banter between Ven...          3\n",
       "13  The Eddie / Venom dynamic is once again hilari...          3\n",
       "14  As the closing chapter of this Venom trilogy, ...          3\n",
       "15  The third and last film in the awful Marvel mo...          4\n",
       "16              Keep moving, nothing new to see here.          2\n",
       "17  The third and supposedly final entry in this \"...          2\n",
       "18  Ultimately, Venom: The Last Dance is a fun-fil...          4\n",
       "19  Sadly, the film stumbles through a series of m...          2"
      ]
     },
     "execution_count": 14,
     "metadata": {},
     "output_type": "execute_result"
    }
   ],
   "source": [
    "df.head(100)"
   ]
  },
  {
   "cell_type": "code",
   "execution_count": 15,
   "metadata": {},
   "outputs": [
    {
     "name": "stdout",
     "output_type": "stream",
     "text": [
      "                                               review  sentiment\n",
      "2   While there is some fun to be had (in particul...          3\n",
      "3   Marcel’s film has a ton of potential in a cast...          3\n",
      "12  The vaudeville-style quirky banter between Ven...          3\n",
      "13  The Eddie / Venom dynamic is once again hilari...          3\n",
      "14  As the closing chapter of this Venom trilogy, ...          3\n"
     ]
    }
   ],
   "source": [
    "### CHECKING ACCURACY OF SENTIMENT RESULTS\n",
    "\n",
    "row = df[df['sentiment'] == 3]\n",
    "\n",
    "print(row)"
   ]
  },
  {
   "cell_type": "code",
   "execution_count": 16,
   "metadata": {},
   "outputs": [
    {
     "data": {
      "image/png": "[encoded data removed]",
      "text/plain": [
       "<Figure size 800x500 with 1 Axes>"
      ]
     },
     "metadata": {},
     "output_type": "display_data"
    }
   ],
   "source": [
    "import pandas as pd\n",
    "import matplotlib.pyplot as plt\n",
    "\n",
    "\n",
    "sentiment_counts = df['sentiment'].value_counts().sort_index()\n",
    "\n",
    "# Plotting the sentiment distribution\n",
    "plt.figure(figsize=(8, 5))\n",
    "sentiment_counts.plot(kind='bar', color='skyblue', edgecolor='black')\n",
    "plt.title('Sentiment Distribution')\n",
    "plt.xlabel('Sentiment')\n",
    "plt.ylabel('Frequency')\n",
    "plt.xticks(rotation=0)\n",
    "plt.show()"
   ]
  },
  {
   "cell_type": "code",
   "execution_count": 19,
   "metadata": {},
   "outputs": [
    {
     "data": {
      "text/html": [
       "<div>\n",
       "<style scoped>\n",
       "    .dataframe tbody tr th:only-of-type {\n",
       "        vertical-align: middle;\n",
       "    }\n",
       "\n",
       "    .dataframe tbody tr th {\n",
       "        vertical-align: top;\n",
       "    }\n",
       "\n",
       "    .dataframe thead th {\n",
       "        text-align: right;\n",
       "    }\n",
       "</style>\n",
       "<table border=\"1\" class=\"dataframe\">\n",
       "  <thead>\n",
       "    <tr style=\"text-align: right;\">\n",
       "      <th></th>\n",
       "      <th>sentiment</th>\n",
       "    </tr>\n",
       "  </thead>\n",
       "  <tbody>\n",
       "    <tr>\n",
       "      <th>count</th>\n",
       "      <td>20.000000</td>\n",
       "    </tr>\n",
       "    <tr>\n",
       "      <th>mean</th>\n",
       "      <td>2.950000</td>\n",
       "    </tr>\n",
       "    <tr>\n",
       "      <th>std</th>\n",
       "      <td>1.190975</td>\n",
       "    </tr>\n",
       "    <tr>\n",
       "      <th>min</th>\n",
       "      <td>1.000000</td>\n",
       "    </tr>\n",
       "    <tr>\n",
       "      <th>25%</th>\n",
       "      <td>2.000000</td>\n",
       "    </tr>\n",
       "    <tr>\n",
       "      <th>50%</th>\n",
       "      <td>3.000000</td>\n",
       "    </tr>\n",
       "    <tr>\n",
       "      <th>75%</th>\n",
       "      <td>4.000000</td>\n",
       "    </tr>\n",
       "    <tr>\n",
       "      <th>max</th>\n",
       "      <td>5.000000</td>\n",
       "    </tr>\n",
       "  </tbody>\n",
       "</table>\n",
       "</div>"
      ],
      "text/plain": [
       "       sentiment\n",
       "count  20.000000\n",
       "mean    2.950000\n",
       "std     1.190975\n",
       "min     1.000000\n",
       "25%     2.000000\n",
       "50%     3.000000\n",
       "75%     4.000000\n",
       "max     5.000000"
      ]
     },
     "execution_count": 19,
     "metadata": {},
     "output_type": "execute_result"
    }
   ],
   "source": [
    "df.describe()"
   ]
  },
  {
   "cell_type": "markdown",
   "metadata": {},
   "source": [
    "# SUMMARY:\n",
    "## 1. Average of 2.95 Sentiment value which is lower compared to other Marvel Sony Picture movies\n",
    "## 2. Majority of the Sentiment value resulted to 2 only. Kindly see Sentiment Distribution Chart.\n",
    "## 3. Sentiment values shows accurate rating of around 3, one sample of reviews: \"Marcel’s film has a ton of potential in a cast that’s clearly game and centered on a terrifically entertaining performance from Hardy. When it’s having fun, “The Last Dance” is infectiously delightful, but those moments are too far and few in between.\""
   ]
  }
 ],
 "metadata": {
  "kernelspec": {
   "display_name": "Python 3",
   "language": "python",
   "name": "python3"
  },
  "language_info": {
   "codemirror_mode": {
    "name": "ipython",
    "version": 3
   },
   "file_extension": ".py",
   "mimetype": "text/x-python",
   "name": "python",
   "nbconvert_exporter": "python",
   "pygments_lexer": "ipython3",
   "version": "3.12.4"
  }
 },
 "nbformat": 4,
 "nbformat_minor": 2
}
